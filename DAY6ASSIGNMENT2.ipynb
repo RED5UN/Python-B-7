{
 "cells": [
  {
   "cell_type": "code",
   "execution_count": null,
   "metadata": {},
   "outputs": [],
   "source": [
    "\n",
    "import math\n",
    "\n",
    "radius = float(input('Please Enter the Radius of a Cone: '))\n",
    "height = float(input('Please Enter the Height of a Cone: '))\n",
    "\n",
    "\n",
    "l = math.sqrt(radius * radius + height * height)\n",
    "\n",
    "\n",
    "SA = math.pi * radius * (radius + l)\n",
    "\n",
    "\n",
    "Volume = (1.0/3) * math.pi * radius * radius * height\n",
    "\n",
    "\n",
    "LSA = math.pi * radius  * l\n",
    "\n",
    "print(\"\\n Length of a Side (Slant)of a Cone = %.2f\" %l)\n",
    "print(\" The Surface Area of a Cone = %.2f \" %SA)\n",
    "print(\" The Volume of a Cone = %.2f\" %Volume);\n",
    "print(\" The Lateral Surface Area of a Cone = %.2f \" %LSA)"
   ]
  },
  {
   "cell_type": "code",
   "execution_count": null,
   "metadata": {},
   "outputs": [],
   "source": []
  }
 ],
 "metadata": {
  "kernelspec": {
   "display_name": "Python 3",
   "language": "python",
   "name": "python3"
  },
  "language_info": {
   "codemirror_mode": {
    "name": "ipython",
    "version": 3
   },
   "file_extension": ".py",
   "mimetype": "text/x-python",
   "name": "python",
   "nbconvert_exporter": "python",
   "pygments_lexer": "ipython3",
   "version": "3.8.3"
  }
 },
 "nbformat": 4,
 "nbformat_minor": 4
}
